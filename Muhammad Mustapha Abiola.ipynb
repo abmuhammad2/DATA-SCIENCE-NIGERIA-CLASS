{
 "cells": [
  {
   "cell_type": "markdown",
   "metadata": {},
   "source": [
    "#  MUHAMMAD MUSTAPHA ABIOLA\n",
    "\n",
    "   ## ASSIGNMENT 1"
   ]
  },
  {
   "cell_type": "code",
   "execution_count": 48,
   "metadata": {},
   "outputs": [
    {
     "name": "stdout",
     "output_type": "stream",
     "text": [
      "{'delete': 'to erase ', 'insert': 'to include', 'gratitude': 'to show appreciation', 'profound': 'extreme', 'affectionate': 'to love'}\n",
      "Ebenezer want me to erase  his name from my jupyter notebook and instruct me to include Dr. Bayo's name instead\n"
     ]
    }
   ],
   "source": [
    "## DICTIONARY\n",
    "Dictionary = {\"delete\": \"to erase \",\n",
    "              \"insert\": \"to include\",\n",
    "              \"gratitude\":\"to show appreciation\",\n",
    "              \"profound\":\"extreme\",\n",
    "              \"affectionate\":\"to love\",\n",
    "             }\n",
    "print (Dictionary)\n",
    "\n",
    "## STATEMENT\n",
    "print(\"Ebenezer want me\",(Dictionary)[\"delete\"],\"his name from my jupyter notebook and instruct me\", (Dictionary)[\"insert\"], \n",
    "      \"Dr. Bayo's name instead\")"
   ]
  },
  {
   "cell_type": "code",
   "execution_count": 49,
   "metadata": {},
   "outputs": [
    {
     "name": "stdout",
     "output_type": "stream",
     "text": [
      "{'insert': 'to include', 'gratitude': 'to show appreciation', 'profound': 'extreme', 'affectionate': 'to love'}\n"
     ]
    }
   ],
   "source": [
    "## REMOVE\n",
    "del(Dictionary[\"delete\"])\n",
    "print(Dictionary)"
   ]
  },
  {
   "cell_type": "code",
   "execution_count": 50,
   "metadata": {},
   "outputs": [
    {
     "name": "stdout",
     "output_type": "stream",
     "text": [
      "{'insert': 'to include', 'gratitude': 'to show appreciation', 'profound': 'extreme', 'affectionate': 'to love', 'naughty': 'badly behaved'}\n"
     ]
    }
   ],
   "source": [
    "## ADD\n",
    "Dictionary [\"naughty\"] = \"badly behaved\"\n",
    "print (Dictionary)"
   ]
  },
  {
   "cell_type": "code",
   "execution_count": 52,
   "metadata": {},
   "outputs": [
    {
     "name": "stdout",
     "output_type": "stream",
     "text": [
      "['Germany', 'Canada', 'Sweden', 'Turkey', 'Tunisia', 'Kenya', 'Nigeria', 'Ghana']\n"
     ]
    }
   ],
   "source": [
    "## LIST \n",
    "Country = [\"Germany\", \"Canada\", \"Sweden\", \"Turkey\", \"Tunisia\", \"Kenya\", \"Nigeria\", \"Ghana\"]\n",
    "print(Country)\n"
   ]
  },
  {
   "cell_type": "code",
   "execution_count": 45,
   "metadata": {},
   "outputs": [
    {
     "name": "stdout",
     "output_type": "stream",
     "text": [
      "('Chelsea', 'Arsenal', 'Manchester united', 'Manchester city', 'Liverpool', 'Leicester city')\n"
     ]
    }
   ],
   "source": [
    "## TUPLES\n",
    "Football_Club = (\"Chelsea\", \"Arsenal\",\"Manchester united\", \"Manchester city\", \"Liverpool\", \"Leicester city\")\n",
    "print (Football_Club)"
   ]
  }
 ],
 "metadata": {
  "kernelspec": {
   "display_name": "Python 3",
   "language": "python",
   "name": "python3"
  },
  "language_info": {
   "codemirror_mode": {
    "name": "ipython",
    "version": 3
   },
   "file_extension": ".py",
   "mimetype": "text/x-python",
   "name": "python",
   "nbconvert_exporter": "python",
   "pygments_lexer": "ipython3",
   "version": "3.7.4"
  }
 },
 "nbformat": 4,
 "nbformat_minor": 2
}
